{
  "cells": [
    {
      "cell_type": "markdown",
      "metadata": {
        "id": "AJY1UmOMTqjh"
      },
      "source": [
        "##**Cross validation**"
      ]
    },
    {
      "cell_type": "code",
      "execution_count": null,
      "metadata": {
        "id": "egoz47a9SN9x"
      },
      "outputs": [],
      "source": [
        "import numpy as np\n",
        "import pandas as pd\n",
        "import matplotlib.pyplot as plt\n",
        "import seaborn as sns"
      ]
    },
    {
      "cell_type": "code",
      "execution_count": null,
      "metadata": {
        "id": "0VCJ1Xc3rz7a"
      },
      "outputs": [],
      "source": [
        "df = pd.read_csv(\"https://raw.githubusercontent.com/DianCA26/Dataset/main/CarPrice_Assignment.csv\")"
      ]
    },
    {
      "cell_type": "code",
      "execution_count": null,
      "metadata": {
        "id": "7cSWFPCdSNg3"
      },
      "outputs": [],
      "source": [
        "X = df[['horsepower','wheelbase','enginesize','boreratio','compressionratio','highwaympg','citympg','curbweight','carwidth','carlength']]\n",
        "y = df['price']"
      ]
    },
    {
      "cell_type": "code",
      "execution_count": null,
      "metadata": {
        "id": "kF7G7TaoSUvg"
      },
      "outputs": [],
      "source": [
        "from sklearn.model_selection import train_test_split\n",
        "X_train, X_test, y_train, y_test = train_test_split(X, y, test_size=0.2, random_state=26)"
      ]
    },
    {
      "cell_type": "code",
      "execution_count": null,
      "metadata": {
        "id": "SbLzkWdiS2QA"
      },
      "outputs": [],
      "source": [
        "from sklearn.svm import SVR\n",
        "model = SVR(kernel=\"poly\", degree=3,C=1000,epsilon=0.01)"
      ]
    },
    {
      "cell_type": "code",
      "execution_count": null,
      "metadata": {
        "id": "8vHmauZ5SaMT"
      },
      "outputs": [],
      "source": [
        "from sklearn.model_selection import cross_val_score\n",
        "scores = cross_val_score(model, X_train, y_train, cv=5)"
      ]
    },
    {
      "cell_type": "code",
      "execution_count": null,
      "metadata": {
        "colab": {
          "base_uri": "https://localhost:8080/"
        },
        "id": "1Uds5StyTix0",
        "outputId": "b22b2e5a-d3fc-4ef9-e1b3-63be0aacd951"
      },
      "outputs": [
        {
          "data": {
            "text/plain": [
              "array([0.83116366, 0.70381438, 0.58123855, 0.62578521, 0.58473012])"
            ]
          },
          "execution_count": 7,
          "metadata": {},
          "output_type": "execute_result"
        }
      ],
      "source": [
        "scores"
      ]
    },
    {
      "cell_type": "code",
      "execution_count": null,
      "metadata": {
        "colab": {
          "base_uri": "https://localhost:8080/"
        },
        "id": "p8z0wSuTTN7R",
        "outputId": "c98b15b9-2199-409f-b13a-07206280df02"
      },
      "outputs": [
        {
          "data": {
            "text/plain": [
              "0.665346382529936"
            ]
          },
          "execution_count": 9,
          "metadata": {},
          "output_type": "execute_result"
        }
      ],
      "source": [
        "scores.mean()"
      ]
    },
    {
      "cell_type": "code",
      "execution_count": null,
      "metadata": {
        "colab": {
          "base_uri": "https://localhost:8080/"
        },
        "id": "SzBxHvR9Tky0",
        "outputId": "110004a1-619d-4c3b-d33c-4207cc36e81c"
      },
      "outputs": [
        {
          "data": {
            "text/plain": [
              "0.09392907172928662"
            ]
          },
          "execution_count": 10,
          "metadata": {},
          "output_type": "execute_result"
        }
      ],
      "source": [
        "scores.std()"
      ]
    },
    {
      "cell_type": "code",
      "execution_count": null,
      "metadata": {
        "colab": {
          "base_uri": "https://localhost:8080/"
        },
        "id": "q0_EX7FpTzJI",
        "outputId": "d6b68aba-c444-4079-fa2f-952247949a48"
      },
      "outputs": [
        {
          "data": {
            "text/plain": [
              "0.7592754542592227"
            ]
          },
          "execution_count": 11,
          "metadata": {},
          "output_type": "execute_result"
        }
      ],
      "source": [
        "scores.mean()+scores.std()"
      ]
    },
    {
      "cell_type": "code",
      "execution_count": null,
      "metadata": {
        "colab": {
          "base_uri": "https://localhost:8080/"
        },
        "id": "t50_WU-7T6pP",
        "outputId": "f5561303-8b19-4dfc-965d-d8a5eed1d41e"
      },
      "outputs": [
        {
          "data": {
            "text/plain": [
              "0.5714173108006494"
            ]
          },
          "execution_count": 12,
          "metadata": {},
          "output_type": "execute_result"
        }
      ],
      "source": [
        "scores.mean()-scores.std()"
      ]
    },
    {
      "cell_type": "markdown",
      "metadata": {
        "id": "Ltg6iPdcVDPz"
      },
      "source": [
        "##**GridSearch**"
      ]
    },
    {
      "cell_type": "code",
      "execution_count": null,
      "metadata": {
        "id": "tBlqBmVhT95Y"
      },
      "outputs": [],
      "source": [
        "from sklearn.model_selection import GridSearchCV"
      ]
    },
    {
      "cell_type": "code",
      "execution_count": null,
      "metadata": {
        "id": "LUr2QxE5VX7h"
      },
      "outputs": [],
      "source": [
        "param_grid = [{'kernel': ['rbf'],\n",
        "               'C': [0.001, 0.01, 0.1, 1, 10, 100],\n",
        "               'gamma': [0.001, 0.01, 0.1, 1, 10, 100]},\n",
        "              {'kernel': ['linear'],\n",
        "               'C': [0.001, 0.01, 0.1, 1, 10, 100]},\n",
        "              {'kernel': ['poly'],\n",
        "               'degree': [2,3,4,5,6,7,8],\n",
        "               'epsilon': [0.01, 0.02, 0.05, 1, 10, 100, 1000],\n",
        "               'C': [0.001, 0.01, 0.1, 1, 10, 100, 1000, 10000, 100000]}]"
      ]
    },
    {
      "cell_type": "code",
      "execution_count": null,
      "metadata": {
        "id": "vXulDZWtVQGB"
      },
      "outputs": [],
      "source": [
        "grid_search = GridSearchCV(SVR(), param_grid, cv=5, scoring=\"r2\")"
      ]
    },
    {
      "cell_type": "code",
      "execution_count": null,
      "metadata": {
        "colab": {
          "base_uri": "https://localhost:8080/"
        },
        "id": "gi7dHWvvWS-J",
        "outputId": "81fd13ea-9388-4bd2-e797-04f131c0af90"
      },
      "outputs": [
        {
          "name": "stdout",
          "output_type": "stream",
          "text": [
            "Best parameters: {'C': 10, 'kernel': 'linear'}\n",
            "Best cross-validation score: 0.73\n"
          ]
        }
      ],
      "source": [
        "grid_search.fit(X_train, y_train)\n",
        "print(\"Best parameters: {}\".format(grid_search.best_params_))\n",
        "print(\"Best cross-validation score: {:.2f}\".format(grid_search.best_score_))"
      ]
    },
    {
      "cell_type": "code",
      "execution_count": null,
      "metadata": {
        "id": "ZUtlVdk7ZI0n"
      },
      "outputs": [],
      "source": [
        "param_new=grid_search.best_estimator_"
      ]
    },
    {
      "cell_type": "code",
      "execution_count": null,
      "metadata": {
        "colab": {
          "base_uri": "https://localhost:8080/"
        },
        "id": "lZDpiVQGc8Q9",
        "outputId": "2f092701-9899-4c7f-c625-7c1b2df0b7d6"
      },
      "outputs": [
        {
          "data": {
            "text/plain": [
              "SVR(C=10, kernel='linear')"
            ]
          },
          "execution_count": 19,
          "metadata": {},
          "output_type": "execute_result"
        }
      ],
      "source": [
        "param_new"
      ]
    },
    {
      "cell_type": "code",
      "execution_count": null,
      "metadata": {
        "id": "8pNRFibEWY8n"
      },
      "outputs": [],
      "source": [
        "y_train_pred=param_new.predict(X_train)\n",
        "y_test_pred=param_new.predict(X_test)"
      ]
    },
    {
      "cell_type": "code",
      "execution_count": null,
      "metadata": {
        "colab": {
          "base_uri": "https://localhost:8080/"
        },
        "id": "828Ckp99ZjD7",
        "outputId": "13392349-81cb-4961-feb9-0759783008ca"
      },
      "outputs": [
        {
          "name": "stdout",
          "output_type": "stream",
          "text": [
            "MAE train =  2400.591157389554\n",
            "MAE test =  2011.9361377299804\n",
            "MSE train =  14916959.157999916\n",
            "MSE test =  7329882.15487767\n",
            "RMSE train =  3862.247941031222\n",
            "RMSE test =  2707.375510504162\n",
            "r2score train =  0.779725079607157\n",
            "r2score test =  0.8380421089632877\n"
          ]
        }
      ],
      "source": [
        "from sklearn.metrics import mean_absolute_error,mean_squared_error,r2_score\n",
        "\n",
        "print('MAE train = ', mean_absolute_error(y_train, y_train_pred))\n",
        "print('MAE test = ', mean_absolute_error(y_test, y_test_pred))\n",
        "\n",
        "print('MSE train = ', mean_squared_error(y_train, y_train_pred))\n",
        "print('MSE test = ', mean_squared_error(y_test, y_test_pred))\n",
        "\n",
        "print('RMSE train = ', np.sqrt(mean_squared_error(y_train, y_train_pred)))\n",
        "print('RMSE test = ', np.sqrt(mean_squared_error(y_test, y_test_pred)))\n",
        "\n",
        "print('r2score train = ', r2_score(y_train, y_train_pred))\n",
        "print('r2score test = ', r2_score(y_test, y_test_pred))"
      ]
    },
    {
      "cell_type": "code",
      "execution_count": null,
      "metadata": {
        "id": "D-jPXTCqTBcj"
      },
      "outputs": [],
      "source": [
        "from sklearn.compose import ColumnTransformer"
      ]
    },
    {
      "cell_type": "code",
      "execution_count": null,
      "metadata": {
        "id": "P0dh4eqmUSmY"
      },
      "outputs": [],
      "source": [
        "from sklearn.pipeline import Pipeline"
      ]
    },
    {
      "cell_type": "code",
      "execution_count": null,
      "metadata": {
        "id": "j7hv9T5OUnVQ"
      },
      "outputs": [],
      "source": [
        "from sklearn.preprocessing import StandardScaler, MinMaxScaler"
      ]
    },
    {
      "cell_type": "code",
      "execution_count": null,
      "metadata": {
        "id": "UVs_tRICTO7n"
      },
      "outputs": [],
      "source": [
        "numeric_features = [\"horsepower\",\"wheelbase\",\"enginesize\",\"boreratio\",\"compressionratio\"]\n",
        "numeric_features2 = [\"highwaympg\",\"citympg\",\"curbweight\",\"carwidth\",\"carlength\"]\n",
        "\n",
        "numeric_transformer_mms = Pipeline([(\"scaler\", MinMaxScaler())])\n",
        "\n",
        "numeric_transformer_sc = Pipeline([(\"scaler2\", StandardScaler())])\n",
        "\n",
        "preprocessor = ColumnTransformer(\n",
        "    transformers=[\n",
        "        (\"num1\", numeric_transformer_mms, numeric_features),\n",
        "        (\"num2\", numeric_transformer_sc, numeric_features2),\n",
        "    ]\n",
        ")\n"
      ]
    },
    {
      "cell_type": "code",
      "execution_count": null,
      "metadata": {
        "colab": {
          "base_uri": "https://localhost:8080/"
        },
        "id": "XyfJ7ZCqUyqF",
        "outputId": "db699c45-baea-4ea7-c25f-ef7bfa4280ba"
      },
      "outputs": [
        {
          "data": {
            "text/plain": [
              "Pipeline(steps=[('prep',\n",
              "                 ColumnTransformer(transformers=[('num1',\n",
              "                                                  Pipeline(steps=[('scaler',\n",
              "                                                                   MinMaxScaler())]),\n",
              "                                                  ['horsepower', 'wheelbase',\n",
              "                                                   'enginesize', 'boreratio',\n",
              "                                                   'compressionratio']),\n",
              "                                                 ('num2',\n",
              "                                                  Pipeline(steps=[('scaler2',\n",
              "                                                                   StandardScaler())]),\n",
              "                                                  ['highwaympg', 'citympg',\n",
              "                                                   'curbweight', 'carwidth',\n",
              "                                                   'carlength'])])),\n",
              "                ('svr', SVR(C=1000, degree=2, epsilon=0.01, kernel='poly'))])"
            ]
          },
          "execution_count": 27,
          "metadata": {},
          "output_type": "execute_result"
        }
      ],
      "source": [
        "pipe = Pipeline([(\"prep\", preprocessor), (\"svr\", SVR(kernel='poly',degree=2,C=1000,epsilon=0.01))])\n",
        "pipe.fit(X_train,y_train)"
      ]
    },
    {
      "cell_type": "code",
      "execution_count": null,
      "metadata": {
        "id": "8rzWeuZ2VTQL"
      },
      "outputs": [],
      "source": [
        "y_train_pred=pipe.predict(X_train)\n",
        "y_test_pred=pipe.predict(X_test)"
      ]
    },
    {
      "cell_type": "code",
      "execution_count": null,
      "metadata": {
        "colab": {
          "base_uri": "https://localhost:8080/"
        },
        "id": "_-r4aAX3VdIs",
        "outputId": "67c538e0-5fb0-447d-e7e2-89f11053c851"
      },
      "outputs": [
        {
          "name": "stdout",
          "output_type": "stream",
          "text": [
            "MAE train =  2063.934845272449\n",
            "MAE test =  1879.1101134895523\n",
            "MSE train =  15952959.589521378\n",
            "MSE test =  7834191.501049096\n",
            "RMSE train =  3994.115620449836\n",
            "RMSE test =  2798.9625758571865\n",
            "r2score train =  0.7644267262253985\n",
            "r2score test =  0.8268991087880835\n"
          ]
        }
      ],
      "source": [
        "print('MAE train = ', mean_absolute_error(y_train, y_train_pred))\n",
        "print('MAE test = ', mean_absolute_error(y_test, y_test_pred))\n",
        "\n",
        "print('MSE train = ', mean_squared_error(y_train, y_train_pred))\n",
        "print('MSE test = ', mean_squared_error(y_test, y_test_pred))\n",
        "\n",
        "print('RMSE train = ', np.sqrt(mean_squared_error(y_train, y_train_pred)))\n",
        "print('RMSE test = ', np.sqrt(mean_squared_error(y_test, y_test_pred)))\n",
        "\n",
        "print('r2score train = ', r2_score(y_train, y_train_pred))\n",
        "print('r2score test = ', r2_score(y_test, y_test_pred))"
      ]
    },
    {
      "cell_type": "code",
      "execution_count": null,
      "metadata": {
        "id": "0VdOUL1sWHPZ"
      },
      "outputs": [],
      "source": [
        "param=[{'svr__kernel': ['poly'],\n",
        "               'svr__degree': [2,3,4],\n",
        "               'svr__epsilon': [0.01],\n",
        "               'svr__C': [1000]}]"
      ]
    },
    {
      "cell_type": "code",
      "execution_count": null,
      "metadata": {
        "id": "cDe1XhksXfYf"
      },
      "outputs": [],
      "source": [
        "grid_search = GridSearchCV(pipe, param_grid=param, cv=5, scoring=\"r2\")"
      ]
    },
    {
      "cell_type": "code",
      "execution_count": null,
      "metadata": {
        "colab": {
          "base_uri": "https://localhost:8080/"
        },
        "id": "mTaKbowJZlKQ",
        "outputId": "f6365341-7917-41b5-a10e-3e40f960a15a"
      },
      "outputs": [
        {
          "data": {
            "text/plain": [
              "GridSearchCV(cv=5,\n",
              "             estimator=Pipeline(steps=[('prep',\n",
              "                                        ColumnTransformer(transformers=[('num1',\n",
              "                                                                         Pipeline(steps=[('scaler',\n",
              "                                                                                          MinMaxScaler())]),\n",
              "                                                                         ['horsepower',\n",
              "                                                                          'wheelbase',\n",
              "                                                                          'enginesize',\n",
              "                                                                          'boreratio',\n",
              "                                                                          'compressionratio']),\n",
              "                                                                        ('num2',\n",
              "                                                                         Pipeline(steps=[('scaler2',\n",
              "                                                                                          StandardScaler())]),\n",
              "                                                                         ['highwaympg',\n",
              "                                                                          'citympg',\n",
              "                                                                          'curbweight',\n",
              "                                                                          'carwidth',\n",
              "                                                                          'carlength'])])),\n",
              "                                       ('svr',\n",
              "                                        SVR(C=1000, degree=2, epsilon=0.01,\n",
              "                                            kernel='poly'))]),\n",
              "             param_grid=[{'svr__C': [1000], 'svr__degree': [2, 3, 4],\n",
              "                          'svr__epsilon': [0.01], 'svr__kernel': ['poly']}],\n",
              "             scoring='r2')"
            ]
          },
          "execution_count": 44,
          "metadata": {},
          "output_type": "execute_result"
        }
      ],
      "source": [
        "grid_search.fit(X_train,y_train)"
      ]
    },
    {
      "cell_type": "code",
      "execution_count": null,
      "metadata": {
        "colab": {
          "base_uri": "https://localhost:8080/"
        },
        "id": "sSNQHcntZfLF",
        "outputId": "af5be486-2e1d-4b6d-b0ed-bf608a5ecfc0"
      },
      "outputs": [
        {
          "data": {
            "text/plain": [
              "Pipeline(steps=[('prep',\n",
              "                 ColumnTransformer(transformers=[('num1',\n",
              "                                                  Pipeline(steps=[('scaler',\n",
              "                                                                   MinMaxScaler())]),\n",
              "                                                  ['horsepower', 'wheelbase',\n",
              "                                                   'enginesize', 'boreratio',\n",
              "                                                   'compressionratio']),\n",
              "                                                 ('num2',\n",
              "                                                  Pipeline(steps=[('scaler2',\n",
              "                                                                   StandardScaler())]),\n",
              "                                                  ['highwaympg', 'citympg',\n",
              "                                                   'curbweight', 'carwidth',\n",
              "                                                   'carlength'])])),\n",
              "                ('svr', SVR(C=1000, degree=2, epsilon=0.01, kernel='poly'))])"
            ]
          },
          "execution_count": 45,
          "metadata": {},
          "output_type": "execute_result"
        }
      ],
      "source": [
        "best=grid_search.best_estimator_"
      ]
    },
    {
      "cell_type": "code",
      "execution_count": null,
      "metadata": {
        "id": "Re0Tf1QxY2y7"
      },
      "outputs": [],
      "source": [
        "y_train_pred=grid_search.best_estimator_.predict(X_train)\n",
        "y_test_pred=grid_search.best_estimator_.predict(X_test)"
      ]
    },
    {
      "cell_type": "code",
      "execution_count": null,
      "metadata": {
        "colab": {
          "base_uri": "https://localhost:8080/"
        },
        "id": "sDO4bNi0Z7d_",
        "outputId": "fa4ad1b5-334c-4e44-c257-e51b976ac4f8"
      },
      "outputs": [
        {
          "name": "stdout",
          "output_type": "stream",
          "text": [
            "MAE train =  2063.934845272449\n",
            "MAE test =  1879.1101134895523\n",
            "MSE train =  15952959.589521378\n",
            "MSE test =  7834191.501049096\n",
            "RMSE train =  3994.115620449836\n",
            "RMSE test =  2798.9625758571865\n",
            "r2score train =  0.7644267262253985\n",
            "r2score test =  0.8268991087880835\n"
          ]
        }
      ],
      "source": [
        "print('MAE train = ', mean_absolute_error(y_train, y_train_pred))\n",
        "print('MAE test = ', mean_absolute_error(y_test, y_test_pred))\n",
        "\n",
        "print('MSE train = ', mean_squared_error(y_train, y_train_pred))\n",
        "print('MSE test = ', mean_squared_error(y_test, y_test_pred))\n",
        "\n",
        "print('RMSE train = ', np.sqrt(mean_squared_error(y_train, y_train_pred)))\n",
        "print('RMSE test = ', np.sqrt(mean_squared_error(y_test, y_test_pred)))\n",
        "\n",
        "print('r2score train = ', r2_score(y_train, y_train_pred))\n",
        "print('r2score test = ', r2_score(y_test, y_test_pred))"
      ]
    }
  ],
  "metadata": {
    "colab": {
      "collapsed_sections": [],
      "name": "GridSearchCV.ipynb",
      "provenance": []
    },
    "kernelspec": {
      "display_name": "Python 3.10.5 64-bit",
      "language": "python",
      "name": "python3"
    },
    "language_info": {
      "name": "python",
      "version": "3.10.5"
    },
    "vscode": {
      "interpreter": {
        "hash": "213524bb45a1aeaf737b1d8c77d7b8db5d425938d9dffc5f4bc6fe6dd3324700"
      }
    }
  },
  "nbformat": 4,
  "nbformat_minor": 0
}
