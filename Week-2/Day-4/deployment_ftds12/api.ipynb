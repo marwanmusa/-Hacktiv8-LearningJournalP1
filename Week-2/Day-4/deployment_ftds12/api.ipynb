{
 "cells": [
  {
   "cell_type": "code",
   "execution_count": 4,
   "metadata": {},
   "outputs": [],
   "source": [
    "import requests"
   ]
  },
  {
   "cell_type": "code",
   "execution_count": 5,
   "metadata": {},
   "outputs": [
    {
     "name": "stdout",
     "output_type": "stream",
     "text": [
      "{'Infogempa': {'gempa': [{'Tanggal': '22 Jun 2022', 'Jam': '12:01:20 WIB', 'DateTime': '2022-06-22T05:01:20+00:00', 'Coordinates': '-7.50,120.49', 'Lintang': '7.50 LS', 'Bujur': '120.49 BT', 'Magnitude': '5.6', 'Kedalaman': '497 km', 'Wilayah': '123 km TimurLaut RUTENG-MANGGARAI-NTT', 'Potensi': 'Tidak berpotensi tsunami'}, {'Tanggal': '22 Jun 2022', 'Jam': '02:08:17 WIB', 'DateTime': '2022-06-21T19:08:17+00:00', 'Coordinates': '2.08,96.35', 'Lintang': '2.08 LU', 'Bujur': '96.35 BT', 'Magnitude': '5.3', 'Kedalaman': '10 km', 'Wilayah': '43 km BaratDaya SINABANG-ACEH', 'Potensi': 'Tidak berpotensi tsunami'}, {'Tanggal': '18 Jun 2022', 'Jam': '18:22:19 WIB', 'DateTime': '2022-06-18T11:22:19+00:00', 'Coordinates': '-4.93,102.98', 'Lintang': '4.93 LS', 'Bujur': '102.98 BT', 'Magnitude': '5.4', 'Kedalaman': '26 km', 'Wilayah': '43 km BaratDaya KAUR-BENGKULU', 'Potensi': 'Tidak berpotensi tsunami'}, {'Tanggal': '17 Jun 2022', 'Jam': '23:45:01 WIB', 'DateTime': '2022-06-17T16:45:01+00:00', 'Coordinates': '-7.39,129.38', 'Lintang': '7.39 LS', 'Bujur': '129.38 BT', 'Magnitude': '5.0', 'Kedalaman': '147 km', 'Wilayah': '195 km TimurLaut MALUKUBRTDAYA', 'Potensi': 'Tidak berpotensi tsunami'}, {'Tanggal': '12 Jun 2022', 'Jam': '06:55:32 WIB', 'DateTime': '2022-06-11T23:55:32+00:00', 'Coordinates': '-8.67,111.42', 'Lintang': '8.67 LS', 'Bujur': '111.42 BT', 'Magnitude': '5.3', 'Kedalaman': '79 km', 'Wilayah': '64 km Tenggara PACITAN-JATIM', 'Potensi': 'Tidak berpotensi tsunami'}, {'Tanggal': '08 Jun 2022', 'Jam': '12:32:36 WIB', 'DateTime': '2022-06-08T05:32:36+00:00', 'Coordinates': '-2.74,118.54', 'Lintang': '2.74 LS', 'Bujur': '118.54 BT', 'Magnitude': '5.8', 'Kedalaman': '10 km', 'Wilayah': '43 km BaratDaya MAMUJU-SULBAR', 'Potensi': 'Tidak berpotensi tsunami'}, {'Tanggal': '07 Jun 2022', 'Jam': '20:24:14 WIB', 'DateTime': '2022-06-07T13:24:14+00:00', 'Coordinates': '0.08,123.70', 'Lintang': '0.08 LU', 'Bujur': '123.70 BT', 'Magnitude': '5.8', 'Kedalaman': '137 km', 'Wilayah': '45 km BaratDaya BOLAANGUKI-BOLSEL-SULUT', 'Potensi': 'Tidak berpotensi tsunami'}, {'Tanggal': '06 Jun 2022', 'Jam': '15:29:11 WIB', 'DateTime': '2022-06-06T08:29:11+00:00', 'Coordinates': '-2.53,139.35', 'Lintang': '2.53 LS', 'Bujur': '139.35 BT', 'Magnitude': '5.0', 'Kedalaman': '10 km', 'Wilayah': '17 km Tenggara SARMI-PAPUA', 'Potensi': 'Tidak berpotensi tsunami'}, {'Tanggal': '06 Jun 2022', 'Jam': '10:44:39 WIB', 'DateTime': '2022-06-06T03:44:39+00:00', 'Coordinates': '-8.66,118.39', 'Lintang': '8.66 LS', 'Bujur': '118.39 BT', 'Magnitude': '5.1', 'Kedalaman': '104 km', 'Wilayah': '16 km BaratDaya DOMPU-NTB', 'Potensi': 'Tidak berpotensi tsunami'}, {'Tanggal': '03 Jun 2022', 'Jam': '02:19:55 WIB', 'DateTime': '2022-06-02T19:19:55+00:00', 'Coordinates': '-0.62,124.42', 'Lintang': '0.62 LS', 'Bujur': '124.42 BT', 'Magnitude': '5.0', 'Kedalaman': '10 km', 'Wilayah': '120 km Tenggara BOLAANGUKI-BOLSEL-SULUT', 'Potensi': 'Tidak berpotensi tsunami'}, {'Tanggal': '02 Jun 2022', 'Jam': '05:55:45 WIB', 'DateTime': '2022-06-01T22:55:45+00:00', 'Coordinates': '-1.11,127.18', 'Lintang': '1.11 LS', 'Bujur': '127.18 BT', 'Magnitude': '5.0', 'Kedalaman': '10 km', 'Wilayah': '62 km BaratDaya LABUHA-MALUT', 'Potensi': 'Tidak berpotensi tsunami'}, {'Tanggal': '31 Mei 2022', 'Jam': '14:10:06 WIB', 'DateTime': '2022-05-31T07:10:06+00:00', 'Coordinates': '-6.18,104.11', 'Lintang': '6.18 LS', 'Bujur': '104.11 BT', 'Magnitude': '5.4', 'Kedalaman': '10 km', 'Wilayah': '100 km BaratDaya TANGGAMUS-LAMPUNG', 'Potensi': 'Tidak berpotensi tsunami'}, {'Tanggal': '27 Mei 2022', 'Jam': '09:36:06 WIB', 'DateTime': '2022-05-27T02:36:06+00:00', 'Coordinates': '-8.64,127.20', 'Lintang': '8.64 LS', 'Bujur': '127.20 BT', 'Magnitude': '6.5', 'Kedalaman': '104 km', 'Wilayah': '85 km BaratDaya MALUKUBRTDAYA', 'Potensi': 'Tidak berpotensi tsunami'}, {'Tanggal': '25 Mei 2022', 'Jam': '22:05:06 WIB', 'DateTime': '2022-05-25T15:05:06+00:00', 'Coordinates': '-4.71,92.67', 'Lintang': '4.71 LS', 'Bujur': '92.67 BT', 'Magnitude': '6.2', 'Kedalaman': '10 km', 'Wilayah': '819 km BaratDaya NIASSELATAN-SUMUT', 'Potensi': 'Tidak berpotensi tsunami'}, {'Tanggal': '25 Mei 2022', 'Jam': '04:18:18 WIB', 'DateTime': '2022-05-24T21:18:18+00:00', 'Coordinates': '-5.76,103.73', 'Lintang': '5.76 LS', 'Bujur': '103.73 BT', 'Magnitude': '5.1', 'Kedalaman': '25 km', 'Wilayah': '67 km BaratDaya PESISIRBARAT-LAMPUNG', 'Potensi': 'Tidak berpotensi tsunami'}]}}\n"
     ]
    }
   ],
   "source": [
    "# tulis url yang akan diakses\n",
    "URL = \"https://data.bmkg.go.id/DataMKG/TEWS/gempaterkini.json\"\n",
    "\n",
    "# akses dengan GET\n",
    "r = requests.get(URL)\n",
    "\n",
    "# fetsc / tarik data\n",
    "data = r.json()\n",
    "\n",
    "print(data)"
   ]
  },
  {
   "cell_type": "code",
   "execution_count": 6,
   "metadata": {},
   "outputs": [
    {
     "data": {
      "text/plain": [
       "dict_keys(['Infogempa'])"
      ]
     },
     "execution_count": 6,
     "metadata": {},
     "output_type": "execute_result"
    }
   ],
   "source": [
    "data.keys()"
   ]
  },
  {
   "cell_type": "code",
   "execution_count": 7,
   "metadata": {},
   "outputs": [
    {
     "data": {
      "text/plain": [
       "{'Tanggal': '22 Jun 2022',\n",
       " 'Jam': '12:01:20 WIB',\n",
       " 'DateTime': '2022-06-22T05:01:20+00:00',\n",
       " 'Coordinates': '-7.50,120.49',\n",
       " 'Lintang': '7.50 LS',\n",
       " 'Bujur': '120.49 BT',\n",
       " 'Magnitude': '5.6',\n",
       " 'Kedalaman': '497 km',\n",
       " 'Wilayah': '123 km TimurLaut RUTENG-MANGGARAI-NTT',\n",
       " 'Potensi': 'Tidak berpotensi tsunami'}"
      ]
     },
     "execution_count": 7,
     "metadata": {},
     "output_type": "execute_result"
    }
   ],
   "source": [
    "data['Infogempa']['gempa'][0]"
   ]
  },
  {
   "cell_type": "code",
   "execution_count": 8,
   "metadata": {},
   "outputs": [
    {
     "name": "stdout",
     "output_type": "stream",
     "text": [
      "INFO GEMPA TERKINI\n",
      "**************************************************\n",
      "Tanggal\t: 22 Jun 2022\n",
      "Daerah\t: 123 km TimurLaut RUTENG-MANGGARAI-NTT\n",
      "Kekuatan: 5.6 SR\n",
      "Potensi\t: Tidak berpotensi tsunami\n",
      "**************************************************\n",
      "Tanggal\t: 22 Jun 2022\n",
      "Daerah\t: 43 km BaratDaya SINABANG-ACEH\n",
      "Kekuatan: 5.3 SR\n",
      "Potensi\t: Tidak berpotensi tsunami\n",
      "**************************************************\n",
      "Tanggal\t: 18 Jun 2022\n",
      "Daerah\t: 43 km BaratDaya KAUR-BENGKULU\n",
      "Kekuatan: 5.4 SR\n",
      "Potensi\t: Tidak berpotensi tsunami\n",
      "**************************************************\n",
      "Tanggal\t: 17 Jun 2022\n",
      "Daerah\t: 195 km TimurLaut MALUKUBRTDAYA\n",
      "Kekuatan: 5.0 SR\n",
      "Potensi\t: Tidak berpotensi tsunami\n",
      "**************************************************\n",
      "Tanggal\t: 12 Jun 2022\n",
      "Daerah\t: 64 km Tenggara PACITAN-JATIM\n",
      "Kekuatan: 5.3 SR\n",
      "Potensi\t: Tidak berpotensi tsunami\n",
      "**************************************************\n",
      "Tanggal\t: 08 Jun 2022\n",
      "Daerah\t: 43 km BaratDaya MAMUJU-SULBAR\n",
      "Kekuatan: 5.8 SR\n",
      "Potensi\t: Tidak berpotensi tsunami\n",
      "**************************************************\n",
      "Tanggal\t: 07 Jun 2022\n",
      "Daerah\t: 45 km BaratDaya BOLAANGUKI-BOLSEL-SULUT\n",
      "Kekuatan: 5.8 SR\n",
      "Potensi\t: Tidak berpotensi tsunami\n",
      "**************************************************\n",
      "Tanggal\t: 06 Jun 2022\n",
      "Daerah\t: 17 km Tenggara SARMI-PAPUA\n",
      "Kekuatan: 5.0 SR\n",
      "Potensi\t: Tidak berpotensi tsunami\n",
      "**************************************************\n",
      "Tanggal\t: 06 Jun 2022\n",
      "Daerah\t: 16 km BaratDaya DOMPU-NTB\n",
      "Kekuatan: 5.1 SR\n",
      "Potensi\t: Tidak berpotensi tsunami\n",
      "**************************************************\n",
      "Tanggal\t: 03 Jun 2022\n",
      "Daerah\t: 120 km Tenggara BOLAANGUKI-BOLSEL-SULUT\n",
      "Kekuatan: 5.0 SR\n",
      "Potensi\t: Tidak berpotensi tsunami\n",
      "**************************************************\n",
      "Tanggal\t: 02 Jun 2022\n",
      "Daerah\t: 62 km BaratDaya LABUHA-MALUT\n",
      "Kekuatan: 5.0 SR\n",
      "Potensi\t: Tidak berpotensi tsunami\n",
      "**************************************************\n",
      "Tanggal\t: 31 Mei 2022\n",
      "Daerah\t: 100 km BaratDaya TANGGAMUS-LAMPUNG\n",
      "Kekuatan: 5.4 SR\n",
      "Potensi\t: Tidak berpotensi tsunami\n",
      "**************************************************\n",
      "Tanggal\t: 27 Mei 2022\n",
      "Daerah\t: 85 km BaratDaya MALUKUBRTDAYA\n",
      "Kekuatan: 6.5 SR\n",
      "Potensi\t: Tidak berpotensi tsunami\n",
      "**************************************************\n",
      "Tanggal\t: 25 Mei 2022\n",
      "Daerah\t: 819 km BaratDaya NIASSELATAN-SUMUT\n",
      "Kekuatan: 6.2 SR\n",
      "Potensi\t: Tidak berpotensi tsunami\n",
      "**************************************************\n",
      "Tanggal\t: 25 Mei 2022\n",
      "Daerah\t: 67 km BaratDaya PESISIRBARAT-LAMPUNG\n",
      "Kekuatan: 5.1 SR\n",
      "Potensi\t: Tidak berpotensi tsunami\n",
      "**************************************************\n"
     ]
    }
   ],
   "source": [
    "print(\"INFO GEMPA TERKINI\")\n",
    "(print(\"*\"*50))\n",
    "for datagempa in data['Infogempa']['gempa']:\n",
    "    print(f\"Tanggal\\t: {datagempa['Tanggal']}\")\n",
    "    print(f\"Daerah\\t: {datagempa['Wilayah']}\")\n",
    "    print(f\"Kekuatan: {datagempa['Magnitude']} SR\")\n",
    "    print(f\"Potensi\\t: {datagempa['Potensi']}\")\n",
    "    (print(\"*\"*50))"
   ]
  },
  {
   "cell_type": "code",
   "execution_count": 9,
   "metadata": {},
   "outputs": [],
   "source": [
    "import flask"
   ]
  },
  {
   "cell_type": "markdown",
   "metadata": {},
   "source": [
    "# Akses Halaman Post"
   ]
  },
  {
   "cell_type": "code",
   "execution_count": 17,
   "metadata": {},
   "outputs": [
    {
     "data": {
      "text/plain": [
       "{'nama': 'Budi', 'profesi': 'Instruktur hacktive', 'usia': 23}"
      ]
     },
     "execution_count": 17,
     "metadata": {},
     "output_type": "execute_result"
    }
   ],
   "source": [
    "# tulis url yang akan diakses\n",
    "URL = \"http://127.0.0.1:5000/gantinama\"\n",
    "\n",
    "data = {\n",
    "    \"nama\":\"Budi\"\n",
    "    }\n",
    "\n",
    "# akses dengan GET\n",
    "r = requests.post(URL, json=data)\n",
    "\n",
    "# fetsc / tarik data\n",
    "r.json()\n",
    "\n",
    "# print(data)"
   ]
  },
  {
   "cell_type": "markdown",
   "metadata": {},
   "source": [
    "# Inference Model"
   ]
  },
  {
   "cell_type": "code",
   "execution_count": 22,
   "metadata": {},
   "outputs": [],
   "source": [
    "import pickle\n",
    "\n",
    "filename = \"pipe_iris.pkl\"\n",
    "with open(filename, \"rb\") as f:\n",
    "    model = pickle.load(f)"
   ]
  },
  {
   "cell_type": "code",
   "execution_count": 23,
   "metadata": {},
   "outputs": [
    {
     "name": "stdout",
     "output_type": "stream",
     "text": [
      "1\n"
     ]
    }
   ],
   "source": [
    "new_data = [2.1, 2.0, 4.3, 1.1]\n",
    "res = model.predict([new_data])\n",
    "print(res[0])"
   ]
  },
  {
   "cell_type": "code",
   "execution_count": 12,
   "metadata": {},
   "outputs": [],
   "source": [
    "filename = \"pipe_titanic.pkl\"\n",
    "with open(filename, \"rb\") as f:\n",
    "    model_titanic = pickle.load(f)"
   ]
  },
  {
   "cell_type": "code",
   "execution_count": 13,
   "metadata": {},
   "outputs": [
    {
     "data": {
      "text/plain": [
       "array([0], dtype=int64)"
      ]
     },
     "execution_count": 13,
     "metadata": {},
     "output_type": "execute_result"
    }
   ],
   "source": [
    "import pandas as pd\n",
    "\n",
    "columns = ['Pclass', 'Sex', 'Age', 'SibSp', 'Parch', 'Fare']\n",
    "new_data = [1, 'female', 25.2, 1, 2, 750]\n",
    "new_data = pd.DataFrame([new_data], columns = columns)\n",
    "model_titanic.predict(new_data)\n"
   ]
  },
  {
   "cell_type": "code",
   "execution_count": 26,
   "metadata": {},
   "outputs": [],
   "source": [
    "def inference_iris(data, model):\n",
    "    \"\"\"\n",
    "    input : list with lenght : 4 --> [1, 2, 3, 4]\n",
    "    output : predicted class (idx, label)\n",
    "    \"\"\"\n",
    "    LABEL = [\"Setosa\", \"Versicolor\", \"Virginica\"]\n",
    "    res = model.predict([data])\n",
    "    return res[0], LABEL[res[0]]\n",
    "    "
   ]
  },
  {
   "cell_type": "code",
   "execution_count": 38,
   "metadata": {},
   "outputs": [
    {
     "data": {
      "text/plain": [
       "(2, 'Virginica')"
      ]
     },
     "execution_count": 38,
     "metadata": {},
     "output_type": "execute_result"
    }
   ],
   "source": [
    "new_data = [1,2,3,4]\n",
    "inference_iris(new_data, model)"
   ]
  },
  {
   "cell_type": "code",
   "execution_count": 39,
   "metadata": {},
   "outputs": [
    {
     "data": {
      "text/plain": [
       "{'result': {'label_idx': '1', 'label_name': 'Versicolor'}, 'success': True}"
      ]
     },
     "execution_count": 39,
     "metadata": {},
     "output_type": "execute_result"
    }
   ],
   "source": [
    "# tulis url yang akan diakses\n",
    "URL = \"http://127.0.0.1:5000/iris_prediction\"\n",
    "\n",
    "content = {\n",
    "        'sl': 0,\n",
    "        'sw': 0,\n",
    "        'pl': 0,\n",
    "        'pw': 0,        \n",
    "    }\n",
    "# akses dengan GET\n",
    "r = requests.post(URL, json=content)\n",
    "\n",
    "# fetsc / tarik data\n",
    "r.json()\n",
    "\n",
    "# print(data)"
   ]
  },
  {
   "cell_type": "code",
   "execution_count": 49,
   "metadata": {},
   "outputs": [
    {
     "data": {
      "text/plain": [
       "{'result': {'label_idx': '1', 'label_name': 'Survived'}, 'success': True}"
      ]
     },
     "execution_count": 49,
     "metadata": {},
     "output_type": "execute_result"
    }
   ],
   "source": [
    "# tulis url yang akan diakses\n",
    "URL = \"http://127.0.0.1:5000/titanic_prediction\"\n",
    "\n",
    "content = {\n",
    "        'passenger_class': 1,\n",
    "        'age': 25,\n",
    "        'sibling_spouse': 0,\n",
    "        'parent_children': 0,\n",
    "        'fare': 1000,\n",
    "        'gender': \"female\"       \n",
    "    }\n",
    "# akses dengan GET\n",
    "r = requests.post(URL, json=content)\n",
    "\n",
    "# fetsc / tarik data\n",
    "r.json()\n",
    "\n",
    "# print(data)"
   ]
  }
 ],
 "metadata": {
  "kernelspec": {
   "display_name": "Python 3.9.7 ('base')",
   "language": "python",
   "name": "python3"
  },
  "language_info": {
   "codemirror_mode": {
    "name": "ipython",
    "version": 3
   },
   "file_extension": ".py",
   "mimetype": "text/x-python",
   "name": "python",
   "nbconvert_exporter": "python",
   "pygments_lexer": "ipython3",
   "version": "3.9.12"
  },
  "orig_nbformat": 4,
  "vscode": {
   "interpreter": {
    "hash": "a71a9e4fb054fff428071484f7faa898cb9ecb31a518fe88e3463da9af879578"
   }
  }
 },
 "nbformat": 4,
 "nbformat_minor": 2
}
